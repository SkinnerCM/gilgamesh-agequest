{
 "cells": [
  {
   "cell_type": "code",
   "execution_count": null,
   "id": "0",
   "metadata": {},
   "outputs": [],
   "source": [
    "%cd ..\n",
    "import pandas as pd\n",
    "import numpy as np\n",
    "import matplotlib.pyplot as plt\n",
    "import seaborn as sns"
   ]
  },
  {
   "cell_type": "code",
   "execution_count": null,
   "id": "1",
   "metadata": {},
   "outputs": [],
   "source": [
    "df = pd.read_pickle(\"C:/Datasets/Methylation/GSE40279/raw/hannum32.pkl\")"
   ]
  },
  {
   "cell_type": "code",
   "execution_count": null,
   "id": "2",
   "metadata": {},
   "outputs": [],
   "source": [
    "meta = pd.read_excel(\"C:/Datasets/Methylation/GSE40279/raw/hannum_pmeta.xlsx\")"
   ]
  },
  {
   "cell_type": "code",
   "execution_count": null,
   "id": "3",
   "metadata": {},
   "outputs": [],
   "source": [
    "meta.shape"
   ]
  },
  {
   "cell_type": "code",
   "execution_count": null,
   "id": "4",
   "metadata": {},
   "outputs": [],
   "source": [
    "# 1) Load the correlations\n",
    "r = pd.read_csv(\"../data/interim/gse40279/correlation.csv\", index_col=0).squeeze()\n",
    "\n",
    "# 2) Set a Seaborn style (you can choose “whitegrid”, “darkgrid”, etc.)\n",
    "sns.set_theme(style=\"whitegrid\")\n",
    "\n",
    "# 3) Plot using Seaborn’s histplot\n",
    "sns.histplot(r, bins=100, kde=False)\n",
    "\n",
    "# 4) Label your axes\n",
    "plt.xlabel(\"Pearson correlation (r)\")\n",
    "plt.ylabel(\"Frequency\")\n",
    "plt.title(\"Distribution of CpG–Age Correlations\")\n",
    "\n",
    "plt.tight_layout()\n",
    "plt.show()"
   ]
  },
  {
   "cell_type": "code",
   "execution_count": null,
   "id": "5",
   "metadata": {},
   "outputs": [],
   "source": [
    "from src.utils.io import list_reader\n",
    "\n",
    "arr     = np.load(\"data/interim/gse40279/noise.npy\", mmap_mode=\"r\")\n",
    "samples = list_reader(\"data/interim/gse40279/samples\")\n",
    "cpgs    = list_reader(\"data/interim/gse40279/cpgs\")\n",
    "\n",
    "noise_df = pd.DataFrame(arr, index=samples, columns=cpgs)"
   ]
  },
  {
   "cell_type": "code",
   "execution_count": null,
   "id": "6",
   "metadata": {},
   "outputs": [],
   "source": [
    "import random\n",
    "\n",
    "# 2. Randomly pick, say, 5 000 CpGs out of ~450 000 (~1%)  \n",
    "sample_cpgs = random.sample(cpgs, 10000)"
   ]
  },
  {
   "cell_type": "code",
   "execution_count": null,
   "id": "7",
   "metadata": {},
   "outputs": [],
   "source": [
    "# 3. Grab the noises for the sample cpgs\n",
    "sample_df = noise_df[sample_cpgs]"
   ]
  },
  {
   "cell_type": "code",
   "execution_count": null,
   "id": "8",
   "metadata": {},
   "outputs": [],
   "source": [
    "# 5. Flatten values\n",
    "vals = sample_df.values.flatten()\n",
    "\n",
    "# 6. Plot with seaborn\n",
    "sns.set_theme(style=\"whitegrid\")\n",
    "plt.figure(figsize=(8, 4))\n",
    "sns.histplot(vals, bins=100, kde=False)  # set kde=True if you’d like a density curve\n",
    "plt.xlabel(\"Noise residual\")\n",
    "plt.ylabel(\"Count\")\n",
    "plt.title(\"Sampled noise distribution (10 k CpGs × 656 samples)\")\n",
    "plt.tight_layout()\n",
    "plt.show()"
   ]
  },
  {
   "cell_type": "code",
   "execution_count": null,
   "id": "9",
   "metadata": {},
   "outputs": [],
   "source": [
    "df = pd.read_parquet(\"data/processed/gse40279/selected_10000.parquet\")"
   ]
  },
  {
   "cell_type": "code",
   "execution_count": null,
   "id": "10",
   "metadata": {},
   "outputs": [],
   "source": [
    "df"
   ]
  },
  {
   "cell_type": "code",
   "execution_count": null,
   "id": "11",
   "metadata": {},
   "outputs": [],
   "source": []
  }
 ],
 "metadata": {
  "kernelspec": {
   "display_name": "Python 3 (ipykernel)",
   "language": "python",
   "name": "python3"
  },
  "language_info": {
   "codemirror_mode": {
    "name": "ipython",
    "version": 3
   },
   "file_extension": ".py",
   "mimetype": "text/x-python",
   "name": "python",
   "nbconvert_exporter": "python",
   "pygments_lexer": "ipython3",
   "version": "3.11.13"
  }
 },
 "nbformat": 4,
 "nbformat_minor": 5
}
