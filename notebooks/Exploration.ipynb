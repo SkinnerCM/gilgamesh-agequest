{
 "cells": [
  {
   "cell_type": "code",
   "execution_count": 3,
   "id": "b8057104-47f5-4a45-988b-b499417a4a35",
   "metadata": {},
   "outputs": [],
   "source": [
    "import pandas as pd\n",
    "import numpy as np"
   ]
  },
  {
   "cell_type": "code",
   "execution_count": 4,
   "id": "2220749c-c7ed-4622-9cb2-9c6a2f4f8391",
   "metadata": {},
   "outputs": [],
   "source": [
    "df = pd.read_pickle(\"C:/Datasets/Methylation/GSE40279/raw/hannum32.pkl\")"
   ]
  },
  {
   "cell_type": "code",
   "execution_count": 7,
   "id": "8ca92f95-5d75-4726-9079-6bdd5fa55a6a",
   "metadata": {},
   "outputs": [],
   "source": [
    "meta = pd.read_excel(\"C:/Datasets/Methylation/GSE40279/raw/hannum_pmeta.xlsx\")"
   ]
  },
  {
   "cell_type": "code",
   "execution_count": 12,
   "id": "2b56965a-208c-4157-835b-c447f6a85ac1",
   "metadata": {},
   "outputs": [
    {
     "data": {
      "text/html": [
       "<div>\n",
       "<style scoped>\n",
       "    .dataframe tbody tr th:only-of-type {\n",
       "        vertical-align: middle;\n",
       "    }\n",
       "\n",
       "    .dataframe tbody tr th {\n",
       "        vertical-align: top;\n",
       "    }\n",
       "\n",
       "    .dataframe thead th {\n",
       "        text-align: right;\n",
       "    }\n",
       "</style>\n",
       "<table border=\"1\" class=\"dataframe\">\n",
       "  <thead>\n",
       "    <tr style=\"text-align: right;\">\n",
       "      <th></th>\n",
       "      <th>REF_ID</th>\n",
       "      <th>gender</th>\n",
       "      <th>age</th>\n",
       "      <th>series_id</th>\n",
       "    </tr>\n",
       "  </thead>\n",
       "  <tbody>\n",
       "    <tr>\n",
       "      <th>0</th>\n",
       "      <td>GSM989827</td>\n",
       "      <td>F</td>\n",
       "      <td>67</td>\n",
       "      <td>GSE40279</td>\n",
       "    </tr>\n",
       "    <tr>\n",
       "      <th>1</th>\n",
       "      <td>GSM989828</td>\n",
       "      <td>F</td>\n",
       "      <td>89</td>\n",
       "      <td>GSE40279</td>\n",
       "    </tr>\n",
       "    <tr>\n",
       "      <th>2</th>\n",
       "      <td>GSM989829</td>\n",
       "      <td>F</td>\n",
       "      <td>66</td>\n",
       "      <td>GSE40279</td>\n",
       "    </tr>\n",
       "    <tr>\n",
       "      <th>3</th>\n",
       "      <td>GSM989830</td>\n",
       "      <td>F</td>\n",
       "      <td>64</td>\n",
       "      <td>GSE40279</td>\n",
       "    </tr>\n",
       "    <tr>\n",
       "      <th>4</th>\n",
       "      <td>GSM989831</td>\n",
       "      <td>F</td>\n",
       "      <td>62</td>\n",
       "      <td>GSE40279</td>\n",
       "    </tr>\n",
       "    <tr>\n",
       "      <th>...</th>\n",
       "      <td>...</td>\n",
       "      <td>...</td>\n",
       "      <td>...</td>\n",
       "      <td>...</td>\n",
       "    </tr>\n",
       "    <tr>\n",
       "      <th>651</th>\n",
       "      <td>GSM990623</td>\n",
       "      <td>F</td>\n",
       "      <td>78</td>\n",
       "      <td>GSE40279</td>\n",
       "    </tr>\n",
       "    <tr>\n",
       "      <th>652</th>\n",
       "      <td>GSM990624</td>\n",
       "      <td>M</td>\n",
       "      <td>71</td>\n",
       "      <td>GSE40279</td>\n",
       "    </tr>\n",
       "    <tr>\n",
       "      <th>653</th>\n",
       "      <td>GSM990625</td>\n",
       "      <td>M</td>\n",
       "      <td>68</td>\n",
       "      <td>GSE40279</td>\n",
       "    </tr>\n",
       "    <tr>\n",
       "      <th>654</th>\n",
       "      <td>GSM990626</td>\n",
       "      <td>F</td>\n",
       "      <td>61</td>\n",
       "      <td>GSE40279</td>\n",
       "    </tr>\n",
       "    <tr>\n",
       "      <th>655</th>\n",
       "      <td>GSM990627</td>\n",
       "      <td>M</td>\n",
       "      <td>73</td>\n",
       "      <td>GSE40279</td>\n",
       "    </tr>\n",
       "  </tbody>\n",
       "</table>\n",
       "<p>656 rows × 4 columns</p>\n",
       "</div>"
      ],
      "text/plain": [
       "        REF_ID gender  age series_id\n",
       "0    GSM989827      F   67  GSE40279\n",
       "1    GSM989828      F   89  GSE40279\n",
       "2    GSM989829      F   66  GSE40279\n",
       "3    GSM989830      F   64  GSE40279\n",
       "4    GSM989831      F   62  GSE40279\n",
       "..         ...    ...  ...       ...\n",
       "651  GSM990623      F   78  GSE40279\n",
       "652  GSM990624      M   71  GSE40279\n",
       "653  GSM990625      M   68  GSE40279\n",
       "654  GSM990626      F   61  GSE40279\n",
       "655  GSM990627      M   73  GSE40279\n",
       "\n",
       "[656 rows x 4 columns]"
      ]
     },
     "execution_count": 12,
     "metadata": {},
     "output_type": "execute_result"
    }
   ],
   "source": [
    "meta"
   ]
  },
  {
   "cell_type": "code",
   "execution_count": 11,
   "id": "db2bb5e7-c1fd-4b81-9d3c-4b25bbc21ea2",
   "metadata": {},
   "outputs": [
    {
     "data": {
      "text/plain": [
       "RangeIndex(start=0, stop=656, step=1)"
      ]
     },
     "execution_count": 11,
     "metadata": {},
     "output_type": "execute_result"
    }
   ],
   "source": []
  },
  {
   "cell_type": "code",
   "execution_count": null,
   "id": "808f3ba6-2597-4127-99d9-f9c77d40a4be",
   "metadata": {},
   "outputs": [],
   "source": []
  }
 ],
 "metadata": {
  "kernelspec": {
   "display_name": "Python 3 (ipykernel)",
   "language": "python",
   "name": "python3"
  },
  "language_info": {
   "codemirror_mode": {
    "name": "ipython",
    "version": 3
   },
   "file_extension": ".py",
   "mimetype": "text/x-python",
   "name": "python",
   "nbconvert_exporter": "python",
   "pygments_lexer": "ipython3",
   "version": "3.11.13"
  }
 },
 "nbformat": 4,
 "nbformat_minor": 5
}
